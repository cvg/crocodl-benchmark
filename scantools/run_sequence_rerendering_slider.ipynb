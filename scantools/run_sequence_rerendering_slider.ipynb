{
 "cells": [
  {
   "cell_type": "code",
   "execution_count": null,
   "metadata": {},
   "outputs": [],
   "source": [
    "from jupyter_compare_view import compare\n",
    "import ipywidgets as widgets\n",
    "\n",
    "import copy\n",
    "import numpy as np\n",
    "\n",
    "from scantools import logger\n",
    "from scantools.capture import Capture\n",
    "\n",
    "from scantools.proc.rendering import Renderer\n",
    "from scantools.utils.io import read_mesh, read_image"
   ]
  },
  {
   "cell_type": "code",
   "execution_count": null,
   "metadata": {},
   "outputs": [],
   "source": [
    "capture_path = \"/home/plukovic/research_assistant/capture/HYDRO\"\n",
    "query_id = \"ios_2023-10-27_11.53.29_000\"\n",
    "ref_id = \"2023-11-03_10.31.58+2023-11-03_13.51.06\"\n",
    "skip = 10"
   ]
  },
  {
   "cell_type": "code",
   "execution_count": null,
   "metadata": {
    "scrolled": true
   },
   "outputs": [],
   "source": [
    "capture = Capture.load(capture_path)"
   ]
  },
  {
   "cell_type": "code",
   "execution_count": null,
   "metadata": {},
   "outputs": [],
   "source": [
    "def read_raw_image(cam_id, data_path, images):\n",
    "    if cam_id not in images:\n",
    "        # It's a rig. Pick first camera.\n",
    "        cam_id = list(sorted(images.keys()))[0]\n",
    "    return read_image(data_path / images[cam_id])\n",
    "\n",
    "\n",
    "def render_image(cam_id, T, images, cameras, renderer, rig=None):\n",
    "    T = copy.deepcopy(T)\n",
    "    if cam_id not in images:\n",
    "        # It's a rig. Pick first camera.\n",
    "        cam_id = list(sorted(images.keys()))[0]\n",
    "        T_cam2rig = rig[cam_id]\n",
    "        T = T * T_cam2rig\n",
    "    camera = cameras[cam_id]\n",
    "    render, _ = renderer.render_from_capture(T, camera)\n",
    "    render = (np.clip(render, 0, 1) * 255).astype(np.uint8)\n",
    "    return render"
   ]
  },
  {
   "cell_type": "code",
   "execution_count": null,
   "metadata": {},
   "outputs": [],
   "source": [
    "class ButtonHandler:\n",
    "    def __init__(self, trajectory, session, data_path, renderer, skip=5):\n",
    "        self.idx = 0\n",
    "        self.render = False\n",
    "        self.keys = list(sorted(trajectory.key_pairs()))\n",
    "        self.trajectory = trajectory\n",
    "        self.session = session\n",
    "        self.data_path = data_path\n",
    "        self.renderer = renderer\n",
    "        self.skip = skip\n",
    "        self.ts, self.cam_id = sorted(self.trajectory.key_pairs())[0]\n",
    "        self.raw_img = read_raw_image(self.cam_id, capture.data_path(query_id), session_q.images[self.ts])\n",
    "        self.render_img = render_image(self.cam_id, self.trajectory[self.ts, self.cam_id], self.session.images[self.ts], self.session.sensors, self.renderer, rig=(self.session.rigs[self.cam_id] if self.cam_id in self.session.rigs else None))\n",
    "    \n",
    "    # This function is called when bprev is clicked\n",
    "    def previous(self, event):\n",
    "        self.idx = (self.idx - self.skip + len(self.keys)) % len(self.keys)\n",
    "        self.render = False\n",
    "        ts, cam_id = self.keys[self.idx]\n",
    "        self.raw_img = read_raw_image(cam_id, self.data_path, self.session.images[ts])\n",
    "        self.render_img = render_image(cam_id, self.trajectory[ts, cam_id], self.session.images[ts], self.session.sensors, self.renderer, rig=(self.session.rigs[cam_id] if cam_id in self.session.rigs else None))\n",
    "        \n",
    "    # This function is called when bnext is clicked\n",
    "    def next(self, event):\n",
    "        self.idx = (self.idx + self.skip) % len(self.keys)\n",
    "        self.render = False\n",
    "        ts, cam_id = self.keys[self.idx]\n",
    "        self.raw_img = read_raw_image(cam_id, self.data_path, self.session.images[ts])\n",
    "        self.render_img = render_image(cam_id, self.trajectory[ts, cam_id], self.session.images[ts], self.session.sensors, self.renderer, rig=(self.session.rigs[cam_id] if cam_id in self.session.rigs else None))"
   ]
  },
  {
   "cell_type": "code",
   "execution_count": null,
   "metadata": {
    "scrolled": false
   },
   "outputs": [],
   "source": [
    "session_ref = capture.sessions[ref_id]\n",
    "T_mesh2global = session_ref.proc.alignment_global.get_abs_pose('pose_graph_optimized')\n",
    "session_q = capture.sessions[query_id]\n",
    "\n",
    "logger.info('Generating interactive visualization diffs by rendering.')\n",
    "mesh = read_mesh(capture.proc_path(ref_id) / session_ref.proc.meshes['mesh'])\n",
    "renderer = Renderer(mesh)\n",
    "trajectory = session_q.proc.alignment_trajectories\n",
    "if T_mesh2global is not None:\n",
    "    trajectory = T_mesh2global.inv * trajectory\n",
    "\n",
    "callback = ButtonHandler(trajectory, session_q, capture.data_path(query_id), renderer, skip)\n",
    "\n",
    "bnext = widgets.Button(description='Next')\n",
    "bnext.on_click(callback.next)\n",
    "\n",
    "bprev = widgets.Button(description='Prev')\n",
    "bprev.on_click(callback.previous)\n",
    "\n",
    "widgets.VBox([bnext, bprev])"
   ]
  },
  {
   "cell_type": "code",
   "execution_count": null,
   "metadata": {
    "scrolled": false
   },
   "outputs": [],
   "source": [
    "compare(callback.render_img, callback.raw_img, cmap=\"gray\", start_mode=\"horizontal\", start_slider_pos=0.5)"
   ]
  }
 ],
 "metadata": {
  "kernelspec": {
   "display_name": "croco",
   "language": "python",
   "name": "python3"
  },
  "language_info": {
   "codemirror_mode": {
    "name": "ipython",
    "version": 3
   },
   "file_extension": ".py",
   "mimetype": "text/x-python",
   "name": "python",
   "nbconvert_exporter": "python",
   "pygments_lexer": "ipython3",
   "version": "3.10.18"
  }
 },
 "nbformat": 4,
 "nbformat_minor": 2
}
